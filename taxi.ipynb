{
 "cells": [
  {
   "cell_type": "code",
   "execution_count": 30,
   "metadata": {},
   "outputs": [
    {
     "name": "stdout",
     "output_type": "stream",
     "text": [
      "0.060279160698189574\n"
     ]
    }
   ],
   "source": [
    "#Import The green Cab Data\n",
    "import pandas as pd\n",
    "import sodapy\n",
    "from sodapy import Socrata\n",
    "from timeit import default_timer\n",
    "\n",
    "\n",
    "# Unauthenticated client only works with public data sets. Note 'None'\n",
    "# in place of application token, and no username or password:\n",
    "#client = Socrata(\"data.cityofnewyork.us\", None)\n",
    "\n",
    "# Example authenticated client (needed for non-public datasets):\n",
    "client = Socrata(\"data.cityofnewyork.us\",\n",
    "                  \"mInZoLergBidZkJY82xc7FYke\")\n",
    "\n",
    "# First 2000 results, returned as JSON from API / converted to Python list of\n",
    "# dictionaries by sodapy.\n",
    "start = default_timer()\n",
    "\n",
    "# do stuff\n",
    "#16385532\n",
    "resultsGreen = client.get(\"pqfs-mqru\",limit=40000)\n",
    "# Convert to pandas DataFrame\n",
    "results_dfGreen = pd.DataFrame.from_records(resultsGreen)\n",
    "duration = default_timer() - start\n",
    "print(duration/60)"
   ]
  },
  {
   "cell_type": "code",
   "execution_count": 31,
   "metadata": {},
   "outputs": [
    {
     "name": "stdout",
     "output_type": "stream",
     "text": [
      "0.04068723445740072\n"
     ]
    }
   ],
   "source": [
    "#Import The Yellow Cab Data\n",
    "import pandas as pd\n",
    "import sodapy\n",
    "from sodapy import Socrata\n",
    "from timeit import default_timer\n",
    "\n",
    "# Unauthenticated client only works with public data sets. Note 'None'\n",
    "# in place of application token, and no username or password:\n",
    "#client = Socrata(\"data.cityofnewyork.us\", None)\n",
    "\n",
    "# Example authenticated client (needed for non-public datasets):\n",
    "client = Socrata(\"data.cityofnewyork.us\",\n",
    "                  \"mInZoLergBidZkJY82xc7FYke\")\n",
    "\n",
    "# First 2000 results, returned as JSON from API / converted to Python list of\n",
    "# dictionaries by sodapy.\n",
    "start = default_timer()\n",
    "\n",
    "# do stuff\n",
    "#16385532\n",
    "resultsYellow = client.get(\"uacg-pexx\",limit=40000)\n",
    "# Convert to pandas DataFrame\n",
    "results_dfYellow = pd.DataFrame.from_records(resultsYellow)\n",
    "duration = default_timer() - start\n",
    "print(duration/60)"
   ]
  },
  {
   "cell_type": "code",
   "execution_count": 32,
   "metadata": {
    "collapsed": true
   },
   "outputs": [],
   "source": [
    "#print(results_dfYellow)"
   ]
  },
  {
   "cell_type": "code",
   "execution_count": 33,
   "metadata": {},
   "outputs": [
    {
     "name": "stdout",
     "output_type": "stream",
     "text": [
      "Aerage tip amount Green: 1.1980115000000113\n",
      "Aerage tip amount Yellow: 1.7913762500000059\n"
     ]
    }
   ],
   "source": [
    "#show the average trip amount\n",
    "\n",
    "tip_amountGreen = 0\n",
    "tip_amountYellow = 0\n",
    "for x in results_dfGreen.tip_amount:\n",
    "    tip_amountGreen = (tip_amountGreen + float(x))\n",
    "for x in results_dfYellow.tip_amount:\n",
    "    tip_amountYellow = (tip_amountYellow + float(x))\n",
    "print('Aerage tip amount Green: ' +str(tip_amountGreen/len(results_dfGreen.tip_amount)))\n",
    "print('Aerage tip amount Yellow: ' + str(tip_amountYellow/len(results_dfYellow.tip_amount)))\n",
    "\n"
   ]
  },
  {
   "cell_type": "code",
   "execution_count": 34,
   "metadata": {},
   "outputs": [
    {
     "name": "stdout",
     "output_type": "stream",
     "text": [
      "Average price per KM Green: 5.7883236396506055\n",
      "Average price per KM Yellow: 7.611067653559512\n"
     ]
    }
   ],
   "source": [
    "#show the averga price per KM Tip amount included\n",
    "distanceKM = []\n",
    "TotalAmount = []\n",
    "Amount = []\n",
    "Total = 0\n",
    "for x in results_dfGreen.trip_distance:\n",
    "    distanceKM.append(float(x)/float(\"0.62137\"))\n",
    "for x in results_dfGreen.total_amount:\n",
    "    TotalAmount.append(float(x))\n",
    "for x in range(0,len(TotalAmount)):\n",
    "    if(distanceKM[x] > 0 and TotalAmount[x] > 0):\n",
    "        Amount.append(TotalAmount[x]/distanceKM[x])\n",
    "for x in Amount:\n",
    "    Total += x\n",
    "print(\"Average price per KM Green: \" + str(Total/len(Amount)))   \n",
    "    \n",
    "for x in results_dfYellow.trip_distance:\n",
    "    distanceKM.append(float(x)/float(\"0.62137\"))\n",
    "for x in results_dfYellow.total_amount:\n",
    "    TotalAmount.append(float(x))\n",
    "for x in range(0,len(TotalAmount)):\n",
    "    if(distanceKM[x] > 0 and TotalAmount[x] > 0):\n",
    "        Amount.append(TotalAmount[x]/distanceKM[x])\n",
    "for x in Amount:\n",
    "    Total += x\n",
    "print(\"Average price per KM Yellow: \" + str(Total/len(Amount)))"
   ]
  },
  {
   "cell_type": "code",
   "execution_count": 35,
   "metadata": {},
   "outputs": [
    {
     "name": "stdout",
     "output_type": "stream",
     "text": [
      "Average price per KM(Green) without Tips: 5.41358431880782\n",
      "Average price per KM(Yellow) without Tips: 7.060009525892464\n"
     ]
    }
   ],
   "source": [
    "#show the averga price per KM without the Tip amount\n",
    "distanceKM = []\n",
    "TotalAmount = []\n",
    "Amount = []\n",
    "Tip_Amount = []\n",
    "Total = 0\n",
    "for x in results_dfGreen.trip_distance:\n",
    "    distanceKM.append(float(x)/float(\"0.62137\"))\n",
    "for x in results_dfGreen.total_amount:\n",
    "    TotalAmount.append(float(x))\n",
    "for x in results_dfGreen.tip_amount:\n",
    "    Tip_Amount.append(float(x))\n",
    "for x in range(0,len(TotalAmount)):\n",
    "    if(distanceKM[x] > 0 and TotalAmount[x] > 0):\n",
    "        Amount.append((TotalAmount[x] - Tip_Amount[x])/distanceKM[x])\n",
    "for x in Amount:\n",
    "    Total += x\n",
    "\n",
    "print(\"Average price per KM(Green) without Tips: \" + str(Total/len(Amount)))   \n",
    "    \n",
    "for x in results_dfYellow.trip_distance:\n",
    "    distanceKM.append(float(x)/float(\"0.62137\"))\n",
    "for x in results_dfYellow.total_amount:\n",
    "    TotalAmount.append(float(x))\n",
    "for x in results_dfYellow.tip_amount:\n",
    "    Tip_Amount.append(float(x))\n",
    "for x in range(0,len(TotalAmount)):\n",
    "    if(distanceKM[x] > 0 and TotalAmount[x] > 0):\n",
    "        Amount.append((TotalAmount[x] - Tip_Amount[x])/distanceKM[x])\n",
    "for x in Amount:\n",
    "    Total += x\n",
    "print(\"Average price per KM(Yellow) without Tips: \" + str(Total/len(Amount)))"
   ]
  },
  {
   "cell_type": "code",
   "execution_count": null,
   "metadata": {},
   "outputs": [],
   "source": []
  },
  {
   "cell_type": "code",
   "execution_count": 36,
   "metadata": {},
   "outputs": [],
   "source": [
    "#creates arrays of Tip Amounts for Graph\n",
    "payments=results_dfGreen.tip_amount\n",
    "paymentsDetailGreen=[]\n",
    "zero=[]\n",
    "zeroAndHalf=[]\n",
    "One=[]\n",
    "OneAndAHalf=[]\n",
    "Two=[]\n",
    "TwoAndAHalf=[]\n",
    "Three=[]\n",
    "ThreeAndAHalf=[]\n",
    "Four=[]\n",
    "FourAndAHalf=[]\n",
    "Five=[]\n",
    "FiveAndAHalf=[]\n",
    "Six=[]\n",
    "SixAndAHalf=[]\n",
    "Seven=[]\n",
    "SevenAndAHalf=[]\n",
    "Eigt=[]\n",
    "EigtAndAHalf=[]\n",
    "more=[]\n",
    "for x in payments:\n",
    "    \n",
    "    if x=='0':\n",
    "        zero.append(x) \n",
    "    elif x<='0.5':\n",
    "        zeroAndHalf.append(x)\n",
    "    elif x<='1':\n",
    "        One.append(x)\n",
    "    elif x<='1.5':\n",
    "        OneAndAHalf.append(x)\n",
    "    elif x<='2':\n",
    "        Two.append(x)     \n",
    "    elif x<='2.5':\n",
    "        TwoAndAHalf.append(x) \n",
    "    elif x<='3':\n",
    "        Three.append(x) \n",
    "    elif x<='3.5':\n",
    "        ThreeAndAHalf.append(x) \n",
    "    elif x<='4':\n",
    "        Four.append(x) \n",
    "    elif x<='4.5':\n",
    "        FourAndAHalf.append(x) \n",
    "    elif x<='5':\n",
    "        Five.append(x) \n",
    "    elif x<='5.5':\n",
    "        FiveAndAHalf.append(x) \n",
    "    elif x<='6':\n",
    "        Six.append(x) \n",
    "    elif x<='6.5':\n",
    "        SixAndAHalf.append(x) \n",
    "    elif x<='7':\n",
    "        Seven.append(x)\n",
    "    elif x<='7.5':\n",
    "        SevenAndAHalf.append(x)\n",
    "    elif x<='8':\n",
    "        Eigt.append(x) \n",
    "    elif x<='8.5':\n",
    "        EigtAndAHalf.append(x)\n",
    "    else:\n",
    "        more.append(x)\n",
    "paymentsDetailGreen.extend((len(zero),len(zeroAndHalf),len(One),len(OneAndAHalf),len(Two),len(TwoAndAHalf),len(Three),len(ThreeAndAHalf)\n",
    "                           ,len(Four),len(FourAndAHalf),len(Five),len(FiveAndAHalf),len(Six),len(SixAndAHalf)\n",
    "                           ,len(SevenAndAHalf),len(Eigt),len(EigtAndAHalf),len(more)))  "
   ]
  },
  {
   "cell_type": "code",
   "execution_count": 37,
   "metadata": {},
   "outputs": [
    {
     "name": "stdout",
     "output_type": "stream",
     "text": [
      "[15120, 180, 3049, 3779, 6029, 3318, 2540, 1488, 1119, 671, 758, 353, 373, 206, 163, 209, 117, 296]\n",
      "[26016, 104, 799, 1277, 2725, 1702, 1727, 1131, 1074, 737, 781, 460, 382, 256, 146, 149, 104, 193]\n"
     ]
    }
   ],
   "source": [
    "#creates arrays of Tip Amounts for Graph\n",
    "paymentsY=results_dfYellow.tip_amount\n",
    "paymentsDetailYellow=[]\n",
    "zeroY=[]\n",
    "zeroAndHalfY=[]\n",
    "OneY=[]\n",
    "OneAndAHalfY=[]\n",
    "TwoY=[]\n",
    "TwoAndAHalfY=[]\n",
    "ThreeY=[]\n",
    "ThreeAndAHalfY=[]\n",
    "FourY=[]\n",
    "FourAndAHalfY=[]\n",
    "FiveY=[]\n",
    "FiveAndAHalfY=[]\n",
    "SixY=[]\n",
    "SixAndAHalfY=[]\n",
    "SevenY=[]\n",
    "SevenAndAHalfY=[]\n",
    "EigtY=[]\n",
    "EigtAndAHalfY=[]\n",
    "moreY=[]\n",
    "for y in paymentsY:\n",
    "    \n",
    "    if y=='0':\n",
    "        zeroY.append(y) \n",
    "    elif y<='0.5':\n",
    "        zeroAndHalfY.append(y)\n",
    "    elif y<='1':\n",
    "        OneY.append(y)\n",
    "    elif y<='1.5':\n",
    "        OneAndAHalfY.append(y)\n",
    "    elif y<='2':\n",
    "        TwoY.append(y)\n",
    "    elif y<='2.5':\n",
    "        TwoAndAHalfY.append(y)\n",
    "    elif y<='3':\n",
    "        ThreeY.append(y)\n",
    "    elif y<='3.5':\n",
    "        ThreeAndAHalfY.append(y)\n",
    "    elif y<='4':\n",
    "        FourY.append(y) \n",
    "    elif y<='4.5':\n",
    "        FourAndAHalfY.append(y) \n",
    "    elif y<='5':\n",
    "        FiveY.append(y) \n",
    "    elif y<='5.5':\n",
    "        FiveAndAHalfY.append(y) \n",
    "    elif y<='6':\n",
    "        SixY.append(y) \n",
    "    elif y<='6.5':\n",
    "        SixAndAHalfY.append(y) \n",
    "    elif y<='7':\n",
    "        SevenY.append(y)\n",
    "    elif y<='7.5':\n",
    "        SevenAndAHalfY.append(y)\n",
    "    elif y<='8':\n",
    "        EigtY.append(y) \n",
    "    elif y<='8.5':\n",
    "        EigtAndAHalfY.append(y)\n",
    "    else:\n",
    "        moreY.append(y)\n",
    "        \n",
    "\n",
    "paymentsDetailYellow.extend((len(zeroY),len(zeroAndHalfY),len(OneY),len(OneAndAHalfY),len(TwoY),len(TwoAndAHalfY),len(ThreeY),len(ThreeAndAHalfY),len(FourY),len(FourAndAHalfY),len(FiveY),len(FiveAndAHalfY),len(SixY),len(SixAndAHalfY)\n",
    "                           ,len(SevenAndAHalfY),len(EigtY),len(EigtAndAHalfY),len(moreY)))\n",
    "print(paymentsDetailYellow)\n",
    "print(paymentsDetailGreen)"
   ]
  },
  {
   "cell_type": "code",
   "execution_count": 38,
   "metadata": {},
   "outputs": [
    {
     "name": "stdout",
     "output_type": "stream",
     "text": [
      "[26016, 104, 799, 1277, 2725, 1702, 1727, 1131, 1074, 737, 781, 460, 382, 256, 146, 149, 104, 193]\n",
      "[15120, 180, 3049, 3779, 6029, 3318, 2540, 1488, 1119, 671, 758, 353, 373, 206, 163, 209, 117, 296]\n"
     ]
    },
    {
     "data": {
      "image/png": "[encoded data removed]",
      "text/plain": [
       "<matplotlib.figure.Figure at 0x1be757cdf60>"
      ]
     },
     "metadata": {},
     "output_type": "display_data"
    }
   ],
   "source": [
    "# Shows the graph of the tip amounts\n",
    "import matplotlib.pyplot as plt\n",
    "import numpy as np\n",
    "n_groups = 18\n",
    "payGreen = []\n",
    "payGreen.extend((paymentsDetailGreen[0],paymentsDetailGreen[1],paymentsDetailGreen[2],paymentsDetailGreen[3],paymentsDetailGreen[4],paymentsDetailGreen[5],paymentsDetailGreen[6],paymentsDetailGreen[7],paymentsDetailGreen[8],paymentsDetailGreen[9],paymentsDetailGreen[10],paymentsDetailGreen[11],paymentsDetailGreen[12],paymentsDetailGreen[13],paymentsDetailGreen[14],paymentsDetailGreen[15],paymentsDetailGreen[16],paymentsDetailGreen[17]))\n",
    "payYellow = []\n",
    "payYellow.extend((paymentsDetailYellow[0],paymentsDetailYellow[1],paymentsDetailYellow[2],paymentsDetailYellow[3],paymentsDetailYellow[4],paymentsDetailYellow[5],paymentsDetailYellow[6],paymentsDetailYellow[7],paymentsDetailYellow[8],paymentsDetailYellow[9],paymentsDetailYellow[10],paymentsDetailYellow[11],paymentsDetailYellow[12],paymentsDetailYellow[13],paymentsDetailYellow[14],paymentsDetailYellow[15],paymentsDetailYellow[16],paymentsDetailYellow[17]))\n",
    "\n",
    "print(payGreen)\n",
    "print(payYellow)\n",
    "# create plot\n",
    "fig, ax = plt.subplots()\n",
    "index = np.arange(n_groups)\n",
    "bar_width = 0.35\n",
    "opacity = 0.8\n",
    " \n",
    "rects1 = plt.bar(index, payGreen, bar_width,\n",
    "                 alpha=opacity,\n",
    "                 color='green',\n",
    "                 label='Green')\n",
    " \n",
    "rects2 = plt.bar(index + bar_width, payYellow, bar_width,\n",
    "                 alpha=opacity,\n",
    "                 color='yellow',\n",
    "                 label='Yellow')\n",
    "#,'No Charge','Dispute','Unknown','Voided trip'\n",
    "plt.ylabel('Aantal betaling')\n",
    "plt.title('Vergelijking betaling Yellow & Green Taxi company NYC ')\n",
    "plt.xlabel('Tip Amount')\n",
    "\n",
    "x_axis=['0','<0.5','<1','<1.5',\"<2\",\"<2.5\",\"<3\",\"<3.5\",\"<4\",\"<4.5\",\"<5\",\"<5.5\",\"<6\",\"<6.5\",\"<7\",\"<7.5\",\"<8\",\"<8.5\",\"more\"]\n",
    "plt.xticks(index+bar_width,x_axis)\n",
    "\n",
    "plt.legend()\n",
    " \n",
    "plt.tight_layout()\n",
    "plt.show()"
   ]
  },
  {
   "cell_type": "code",
   "execution_count": 39,
   "metadata": {},
   "outputs": [
    {
     "name": "stdout",
     "output_type": "stream",
     "text": [
      "[13767, 25996, 190, 47, 0, 0]\n",
      "[23185, 16446, 189, 176, 4, 0]\n"
     ]
    }
   ],
   "source": [
    "#creates arrays to show different ways of payments(Jordan)\n",
    "payments=results_dfGreen.payment_type\n",
    "paymentsDetailGreen=[]\n",
    "cash=[]\n",
    "credit=[]\n",
    "noCharge=[]\n",
    "dispute=[]\n",
    "unknown=[]\n",
    "voidedTrip=[]\n",
    "for x in payments:\n",
    "    \n",
    "    if x=='1':\n",
    "        credit.append(x) \n",
    "    elif x=='2':\n",
    "        cash.append(x)\n",
    "    elif x=='3':\n",
    "        noCharge.append(x)\n",
    "    elif x=='4':\n",
    "        dispute.append(x)\n",
    "    elif x=='5':\n",
    "        unknown.append(x)        \n",
    "    else:\n",
    "        voidedTrip.append(x)\n",
    "paymentsDetailGreen.extend((len(cash),len(credit),len(noCharge),len(dispute),len(unknown),len(voidedTrip)))        \n",
    "#print('Credit card payments: %s' %(len(credit)))\n",
    "#print('Cash card payments: %s'%(len(cash)))\n",
    "#print('No Charge: %s'%(len(noCharge)))\n",
    "#print('Dispute payments: %s'%(len(dispute)))\n",
    "#print('Unknown payments: %s'%(len(unknown)))\n",
    "#print('Voided Trips: %s'%(len(voidedTrip)))\n",
    "paymentsY=results_dfYellow.payment_type\n",
    "paymentsDetailYellow=[]\n",
    "cashY=[]\n",
    "creditY=[]\n",
    "noChargeY=[]\n",
    "disputeY=[]\n",
    "unknownY=[]\n",
    "voidedTripY=[]\n",
    "for y in paymentsY:\n",
    "    \n",
    "    if y=='1':\n",
    "        creditY.append(y) \n",
    "    elif y=='2':\n",
    "        cashY.append(y)\n",
    "    elif y=='3':\n",
    "        noChargeY.append(y)\n",
    "    elif y=='4':\n",
    "        disputeY.append(y)\n",
    "    elif y=='5':\n",
    "        unknownY.append(y)        \n",
    "    else:\n",
    "        voidedTripY.append(y)\n",
    "\n",
    "paymentsDetailYellow.extend((len(cashY),len(creditY),len(noChargeY),len(disputeY),len(unknownY),len(voidedTripY)))\n",
    "print(paymentsDetailYellow)\n",
    "print(paymentsDetailGreen)"
   ]
  },
  {
   "cell_type": "code",
   "execution_count": 40,
   "metadata": {},
   "outputs": [
    {
     "name": "stdout",
     "output_type": "stream",
     "text": [
      "[23185, 16446]\n"
     ]
    },
    {
     "data": {
      "image/png": "[encoded data removed]",
      "text/plain": [
       "<matplotlib.figure.Figure at 0x1be752d64e0>"
      ]
     },
     "metadata": {},
     "output_type": "display_data"
    }
   ],
   "source": [
    "#Show graph of different payment options\n",
    "import numpy as np\n",
    "import matplotlib.pyplot as plt\n",
    " \n",
    "# data to plot\n",
    "n_groups = 2\n",
    "payGreen = []\n",
    "payGreen.extend((paymentsDetailGreen[0],paymentsDetailGreen[1]))\n",
    "payYellow = []\n",
    "payYellow.extend((paymentsDetailYellow[0],paymentsDetailYellow[1]))\n",
    "print(payGreen)\n",
    "# create plot\n",
    "fig, ax = plt.subplots()\n",
    "index = np.arange(n_groups)\n",
    "bar_width = 0.35\n",
    "opacity = 0.8\n",
    " \n",
    "rects1 = plt.bar(index, payGreen, bar_width,\n",
    "                 alpha=opacity,\n",
    "                 color='green',\n",
    "                 label='Green')\n",
    " \n",
    "rects2 = plt.bar(index + bar_width, payYellow, bar_width,\n",
    "                 alpha=opacity,\n",
    "                 color='yellow',\n",
    "                 label='Yellow')\n",
    "#,'No Charge','Dispute','Unknown','Voided trip'\n",
    "plt.ylabel('Aantal betaling')\n",
    "plt.title('Vergelijking betaling Yellow & Green Taxi company NYC ')\n",
    "plt.xlabel('Payment_type')\n",
    "x_axis=['Creditcard','Cash']\n",
    "plt.xticks(index+bar_width,x_axis)\n",
    "plt.legend()\n",
    " \n",
    "plt.tight_layout()\n",
    "plt.show()"
   ]
  },
  {
   "cell_type": "code",
   "execution_count": 41,
   "metadata": {},
   "outputs": [
    {
     "name": "stdout",
     "output_type": "stream",
     "text": [
      "[189, 176, 4, 0]\n",
      "[190, 47, 0, 0]\n"
     ]
    },
    {
     "data": {
      "image/png": "[encoded data removed]",
      "text/plain": [
       "<matplotlib.figure.Figure at 0x1be7c587e10>"
      ]
     },
     "metadata": {},
     "output_type": "display_data"
    }
   ],
   "source": [
    "# data to plot\n",
    "n_groups = 4\n",
    "payGreen = []\n",
    "payGreen.extend((paymentsDetailGreen[2],paymentsDetailGreen[3],paymentsDetailGreen[4],paymentsDetailGreen[5]))\n",
    "payYellow = []\n",
    "payYellow.extend((paymentsDetailYellow[2],paymentsDetailYellow[3],paymentsDetailYellow[4],paymentsDetailYellow[5]))\n",
    "\n",
    "print(payGreen)\n",
    "print(payYellow)\n",
    "# create plot\n",
    "fig, ax = plt.subplots()\n",
    "index = np.arange(n_groups)\n",
    "bar_width = 0.35\n",
    "opacity = 0.8\n",
    " \n",
    "rects1 = plt.bar(index, payGreen, bar_width,\n",
    "                 alpha=opacity,\n",
    "                 color='green',\n",
    "                 label='Green')\n",
    " \n",
    "rects2 = plt.bar(index + bar_width, payYellow, bar_width,\n",
    "                 alpha=opacity,\n",
    "                 color='yellow',\n",
    "                 label='Yellow')\n",
    "#,'No Charge','Dispute','Unknown','Voided trip'\n",
    "plt.ylabel('Aantal betaling')\n",
    "plt.title('Vergelijking betaling Yellow & Green Taxi company NYC ')\n",
    "plt.xlabel('Payment_type')\n",
    "x_axis=['No Charge','Dispute','Unknown','Voided trip']\n",
    "plt.xticks(index+bar_width,x_axis)\n",
    "plt.legend()\n",
    " \n",
    "plt.tight_layout()\n",
    "plt.show()"
   ]
  },
  {
   "cell_type": "code",
   "execution_count": 42,
   "metadata": {},
   "outputs": [],
   "source": [
    "#HERE STARTS THE MONGODB PART!\n",
    "#Code to put the data of the API into a JSON File so it can be uploaded to MongoDB\n",
    "import json\n",
    "\n",
    "def writeToJSONFile(path, fileName, data):\n",
    "    filePathNameWExt = './' + path + '/' + fileName + '.json'\n",
    "    with open(filePathNameWExt, 'w') as fp:\n",
    "        json.dump(data, fp)\n",
    "\n",
    "\n",
    "# Example\n",
    "data = {}\n",
    "data['key'] = 'value'\n",
    "\n",
    "writeToJSONFile('./','taxisMiliionsY',resultsYellow)\n",
    "writeToJSONFile('./','taxisMiliions',resultsGreen)\n"
   ]
  },
  {
   "cell_type": "code",
   "execution_count": 43,
   "metadata": {
    "collapsed": true
   },
   "outputs": [],
   "source": [
    "#MONGOPY imports\n",
    "import pymongo\n",
    "from pymongo import MongoClient"
   ]
  },
  {
   "cell_type": "code",
   "execution_count": 44,
   "metadata": {
    "collapsed": true
   },
   "outputs": [],
   "source": [
    "#Create the MONGOPY client\n",
    "client = MongoClient(\"localhost\", 27017)\n",
    "db = client.Taxi"
   ]
  },
  {
   "cell_type": "code",
   "execution_count": 45,
   "metadata": {},
   "outputs": [
    {
     "data": {
      "text/plain": [
       "['taxiData']"
      ]
     },
     "execution_count": 45,
     "metadata": {},
     "output_type": "execute_result"
    }
   ],
   "source": [
    "#Show collections in TAXI DB\n",
    "db.collection_names()"
   ]
  },
  {
   "cell_type": "code",
   "execution_count": 46,
   "metadata": {
    "collapsed": true
   },
   "outputs": [],
   "source": [
    "#Get the data from the collection can also be filtered here\n",
    "cursor=db.taxiData.find()"
   ]
  },
  {
   "cell_type": "code",
   "execution_count": 47,
   "metadata": {},
   "outputs": [
    {
     "name": "stdout",
     "output_type": "stream",
     "text": [
      "0.01026745470034219\n"
     ]
    }
   ],
   "source": [
    "#Add the data to a array for the heatmap\n",
    "from timeit import default_timer\n",
    "cursor=db.taxiData.find()\n",
    "data=[]\n",
    "start = default_timer()\n",
    "for x in range(0,1000):\n",
    "    data.append(cursor[x])\n",
    "    \n",
    "duration = default_timer() - start\n",
    "print(duration/60)"
   ]
  },
  {
   "cell_type": "code",
   "execution_count": 48,
   "metadata": {},
   "outputs": [
    {
     "data": {
      "text/html": [
       "<div style=\"width:100%;\"><div style=\"position:relative;width:100%;height:0;padding-bottom:60%;\"><iframe src=\"data:text/html;charset=utf-8;base64,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\" style=\"position:absolute;width:100%;height:100%;left:0;top:0;border:none !important;\" allowfullscreen webkitallowfullscreen mozallowfullscreen></iframe></div></div>"
      ],
      "text/plain": [
       "<folium.folium.Map at 0x1be756a90b8>"
      ]
     },
     "execution_count": 48,
     "metadata": {},
     "output_type": "execute_result"
    }
   ],
   "source": [
    "#Add the data to the Heatmap\n",
    "import os\n",
    "import folium\n",
    "from folium import plugins\n",
    "from folium.plugins import HeatMap\n",
    "m = folium.Map([40.730610, -73.935242], tiles='stamentoner', zoom_start=11)\n",
    "array = []\n",
    "for row in data:\n",
    "    \n",
    "    val1 =float(row['pickup_latitude'])\n",
    "    val2 =float(row['pickup_longitude'])\n",
    "    val3 =1\n",
    "    \n",
    "    array.append([val1, val2, val3])\n",
    "    #print (array)\n",
    "    #folium.Marker([val1, val2], popup=str(Aantal)).add_to(m)\n",
    "    #print(key, ':', l[key][0], l[key][1], l[key][2])\n",
    "    \n",
    "HeatMap(array).add_to(m)\n",
    "# I am using the magnitude as the weight for the heatmap\n",
    "#print(array\n",
    "m"
   ]
  }
 ],
 "metadata": {
  "kernelspec": {
   "display_name": "Python 3",
   "language": "python",
   "name": "python3"
  },
  "language_info": {
   "codemirror_mode": {
    "name": "ipython",
    "version": 3
   },
   "file_extension": ".py",
   "mimetype": "text/x-python",
   "name": "python",
   "nbconvert_exporter": "python",
   "pygments_lexer": "ipython3",
   "version": "3.6.1"
  }
 },
 "nbformat": 4,
 "nbformat_minor": 2
}
